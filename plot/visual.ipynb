{
 "cells": [
  {
   "cell_type": "code",
   "execution_count": 8,
   "metadata": {},
   "outputs": [
    {
     "name": "stdout",
     "output_type": "stream",
     "text": [
      "adj list 最大值-最小值为： 5188.0 4427.0\n",
      "att list 最大值-最小值为： 2046.8513 1884.5427\n"
     ]
    }
   ],
   "source": [
    "import  numpy as np\n",
    "import matplotlib.pyplot as plt\n",
    "adj_list = np.load('adj_score.npy')\n",
    "# adj_list = np.sqrt(adj_list)\n",
    "att_list = np.load('att_score.npy')\n",
    "total_list = np.load('score.npy')\n",
    "print('adj list 最大值-最小值为：',np.max(adj_list),np.min(adj_list))\n",
    "print('att list 最大值-最小值为：',np.max(att_list),np.min(att_list))"
   ]
  },
  {
   "cell_type": "code",
   "execution_count": 7,
   "metadata": {},
   "outputs": [
    {
     "name": "stdout",
     "output_type": "stream",
     "text": [
      "  (0, 0)\t3.0\n",
      "  (1, 1)\t77.0\n",
      "[[  3.   6.]\n",
      " [231. 308.]]\n"
     ]
    }
   ],
   "source": [
    "# 依然是大部分都有边\n"
   ]
  }
 ],
 "metadata": {
  "interpreter": {
   "hash": "3695d052829460c72c0abb1d6d0dad831678e52bf349d8073aff632474f4e63f"
  },
  "kernelspec": {
   "display_name": "Python 3.7.11 64-bit ('hierct': conda)",
   "name": "python3"
  },
  "language_info": {
   "codemirror_mode": {
    "name": "ipython",
    "version": 3
   },
   "file_extension": ".py",
   "mimetype": "text/x-python",
   "name": "python",
   "nbconvert_exporter": "python",
   "pygments_lexer": "ipython3",
   "version": "3.7.11"
  },
  "orig_nbformat": 4
 },
 "nbformat": 4,
 "nbformat_minor": 2
}
